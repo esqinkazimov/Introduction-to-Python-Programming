{
 "cells": [
  {
   "cell_type": "code",
   "execution_count": 1,
   "metadata": {},
   "outputs": [
    {
     "name": "stdout",
     "output_type": "stream",
     "text": [
      "Enter the length of the field in feet: 500\n",
      "Enter the width of the field in feet: 250\n",
      "The area of the field is 2.869605142332415 acres\n"
     ]
    }
   ],
   "source": [
    "## Compute the area of a field, reporting the results in acres.\n",
    "\n",
    "SQFT_PER_ACRE = 43560\n",
    "\n",
    "# Read the input values from user\n",
    "length = float(input('Enter the length of the field in feet: '))\n",
    "width = float(input('Enter the width of the field in feet: '))\n",
    "\n",
    "# Compute the area in acres\n",
    "acres = length * width / SQFT_PER_ACRE\n",
    "\n",
    "# Display the result\n",
    "print('The area of the field is',acres,'acres')"
   ]
  },
  {
   "cell_type": "code",
   "execution_count": null,
   "metadata": {},
   "outputs": [],
   "source": []
  }
 ],
 "metadata": {
  "kernelspec": {
   "display_name": "Python 3",
   "language": "python",
   "name": "python3"
  },
  "language_info": {
   "codemirror_mode": {
    "name": "ipython",
    "version": 3
   },
   "file_extension": ".py",
   "mimetype": "text/x-python",
   "name": "python",
   "nbconvert_exporter": "python",
   "pygments_lexer": "ipython3",
   "version": "3.6.5"
  }
 },
 "nbformat": 4,
 "nbformat_minor": 2
}
