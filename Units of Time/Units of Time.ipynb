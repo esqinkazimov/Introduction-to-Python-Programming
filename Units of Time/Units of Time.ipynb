{
 "cells": [
  {
   "cell_type": "code",
   "execution_count": 1,
   "metadata": {},
   "outputs": [
    {
     "name": "stdout",
     "output_type": "stream",
     "text": [
      "Enter number of days: 40\n",
      "Enter number of hours: 20\n",
      "Enter number of minutes: 30\n",
      "Enter number of secondes: 10\n",
      "Converted result is: 3529810 seconds\n"
     ]
    }
   ],
   "source": [
    "## Convert a duration to seconds\n",
    "\n",
    "SCNDS_PER_DY = 86400\n",
    "SCNDS_PER_HR = 3600\n",
    "SCNDS_PER_MNT = 60\n",
    "\n",
    "# Read the duration from the user\n",
    "day = int(input('Enter number of days: '))\n",
    "hour = int(input('Enter number of hours: '))\n",
    "minute = int(input('Enter number of minutes: '))\n",
    "second = int(input('Enter number of secondes: '))\n",
    "\n",
    "# Compute the amount of seconds\n",
    "seconds = day * SCNDS_PER_DY + hour * SCNDS_PER_HR + minute * SCNDS_PER_MNT + second\n",
    "\n",
    "# Display the result\n",
    "print('Converted result is:', seconds, 'seconds')"
   ]
  }
 ],
 "metadata": {
  "kernelspec": {
   "display_name": "Python 3",
   "language": "python",
   "name": "python3"
  },
  "language_info": {
   "codemirror_mode": {
    "name": "ipython",
    "version": 3
   },
   "file_extension": ".py",
   "mimetype": "text/x-python",
   "name": "python",
   "nbconvert_exporter": "python",
   "pygments_lexer": "ipython3",
   "version": "3.6.5"
  }
 },
 "nbformat": 4,
 "nbformat_minor": 2
}
