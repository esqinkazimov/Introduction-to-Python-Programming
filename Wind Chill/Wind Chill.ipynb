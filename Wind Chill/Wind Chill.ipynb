{
 "cells": [
  {
   "cell_type": "code",
   "execution_count": 1,
   "metadata": {},
   "outputs": [
    {
     "name": "stdout",
     "output_type": "stream",
     "text": [
      "Enter the air temperature (degrees Celcius): 3\n",
      "Enter the wind speed (kilometers per hour): 35\n",
      "The wind chill index is -3\n"
     ]
    }
   ],
   "source": [
    "## Compute the wind chill index for a given air temperature and wind speed\n",
    "'''The wind chill index is only considered valid for temperatures less than or\n",
    "equal to 10 degrees Celsius and wind speeds exceeding 4.8 kilometers per\n",
    "hour.'''\n",
    "\n",
    "WC_OFFSET = 13.12\n",
    "WC_FACTOR1 = 0.6215\n",
    "WC_FACTOR2 = -11.37\n",
    "WC_FACTOR3 = 0.3965\n",
    "WC_EXPONENT = 0.16\n",
    "\n",
    "# Read the air temerature and wind speed from the user\n",
    "temp = float(input('Enter the air temperature (degrees Celcius): '))\n",
    "speed = float(input('Enter the wind speed (kilometers per hour): '))\n",
    "\n",
    "# Compute the wind chill index\n",
    "wci = WC_OFFSET + WC_FACTOR1 * temp + WC_FACTOR2 * speed ** WC_EXPONENT + WC_FACTOR3 * temp * speed ** WC_EXPONENT\n",
    "\n",
    "# Display the result rounded to the closest integer\n",
    "# The lower the worse\n",
    "print('The wind chill index is', round(wci))"
   ]
  }
 ],
 "metadata": {
  "kernelspec": {
   "display_name": "Python 3",
   "language": "python",
   "name": "python3"
  },
  "language_info": {
   "codemirror_mode": {
    "name": "ipython",
    "version": 3
   },
   "file_extension": ".py",
   "mimetype": "text/x-python",
   "name": "python",
   "nbconvert_exporter": "python",
   "pygments_lexer": "ipython3",
   "version": "3.6.5"
  }
 },
 "nbformat": 4,
 "nbformat_minor": 2
}
