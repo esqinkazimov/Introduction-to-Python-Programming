{
 "cells": [
  {
   "cell_type": "code",
   "execution_count": 1,
   "metadata": {},
   "outputs": [
    {
     "name": "stdout",
     "output_type": "stream",
     "text": [
      "Enter a number of seconds: 3529810\n",
      "The equivalent duration is 40:20:30:10.\n"
     ]
    }
   ],
   "source": [
    "## Convert a number of seconds to days, hours, minutes and seconds\n",
    "\n",
    "SECONDS_PER_DAY = 86400\n",
    "SECONDS_PER_HOUR = 3600\n",
    "SECONDS_PER_MINUTE = 60\n",
    "\n",
    "# Read the amount of seconds from the user\n",
    "seconds = int(input('Enter a number of seconds: '))\n",
    "\n",
    "# Compute the days, hours, minutes and seconds\n",
    "days = seconds / SECONDS_PER_DAY\n",
    "seconds = seconds % SECONDS_PER_DAY\n",
    "\n",
    "hours = seconds / SECONDS_PER_HOUR\n",
    "seconds = seconds % SECONDS_PER_HOUR\n",
    "\n",
    "minutes = seconds / SECONDS_PER_MINUTE\n",
    "seconds = seconds % SECONDS_PER_MINUTE\n",
    "\n",
    "# Display the result with the desired formatting\n",
    "print('The equivalent duration is %d:%02d:%02d:%02d.' %(days, hours, minutes, seconds))"
   ]
  }
 ],
 "metadata": {
  "kernelspec": {
   "display_name": "Python 3",
   "language": "python",
   "name": "python3"
  },
  "language_info": {
   "codemirror_mode": {
    "name": "ipython",
    "version": 3
   },
   "file_extension": ".py",
   "mimetype": "text/x-python",
   "name": "python",
   "nbconvert_exporter": "python",
   "pygments_lexer": "ipython3",
   "version": "3.6.5"
  }
 },
 "nbformat": 4,
 "nbformat_minor": 2
}
