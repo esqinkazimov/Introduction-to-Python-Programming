{
 "cells": [
  {
   "cell_type": "code",
   "execution_count": 1,
   "metadata": {},
   "outputs": [
    {
     "name": "stdout",
     "output_type": "stream",
     "text": [
      "Enter MPG amount: 18.9\n",
      "18.90 MPG is 12.44 L/100 km\n"
     ]
    }
   ],
   "source": [
    "## Compute the equivalent fuel efficiency\n",
    "\n",
    "# Read the input values from user\n",
    "mpg = float(input('Enter MPG amount: '))\n",
    "\n",
    "# Compute L/100 km based on given MPG\n",
    "liters_per_hundred_kilometers = 235.21 / mpg\n",
    "\n",
    "# Display the Result\n",
    "print('%.2f MPG is %.2f L/100 km' %(mpg, liters_per_hundred_kilometers))"
   ]
  }
 ],
 "metadata": {
  "kernelspec": {
   "display_name": "Python 3",
   "language": "python",
   "name": "python3"
  },
  "language_info": {
   "codemirror_mode": {
    "name": "ipython",
    "version": 3
   },
   "file_extension": ".py",
   "mimetype": "text/x-python",
   "name": "python",
   "nbconvert_exporter": "python",
   "pygments_lexer": "ipython3",
   "version": "3.6.5"
  }
 },
 "nbformat": 4,
 "nbformat_minor": 2
}
