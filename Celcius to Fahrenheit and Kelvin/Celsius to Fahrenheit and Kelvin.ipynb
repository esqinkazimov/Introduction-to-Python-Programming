{
 "cells": [
  {
   "cell_type": "code",
   "execution_count": 1,
   "metadata": {},
   "outputs": [
    {
     "name": "stdout",
     "output_type": "stream",
     "text": [
      "Enter the temperature: 45\n",
      "45.0 Celcius degree is 113.0 Fahrenheit degree\n",
      "45.0 Celcius degree is 318.15 Kelvin degree\n"
     ]
    }
   ],
   "source": [
    "## Convert from Clecius to Fahrenheit and Kelvin\n",
    "\n",
    "# Read input from the user\n",
    "celcius = float(input('Enter the temperature: '))\n",
    "\n",
    "# Compute Fahrenheit and Kelvin degrees based on give temperature\n",
    "fahrenheit = 9 / 5 * celcius + 32\n",
    "kelvin = celcius + 273.15\n",
    "\n",
    "# Display the result\n",
    "print(celcius, 'Celcius degree is', fahrenheit, 'Fahrenheit degree')\n",
    "print(celcius, 'Celcius degree is', kelvin, 'Kelvin degree')"
   ]
  }
 ],
 "metadata": {
  "kernelspec": {
   "display_name": "Python 3",
   "language": "python",
   "name": "python3"
  },
  "language_info": {
   "codemirror_mode": {
    "name": "ipython",
    "version": 3
   },
   "file_extension": ".py",
   "mimetype": "text/x-python",
   "name": "python",
   "nbconvert_exporter": "python",
   "pygments_lexer": "ipython3",
   "version": "3.6.5"
  }
 },
 "nbformat": 4,
 "nbformat_minor": 2
}
