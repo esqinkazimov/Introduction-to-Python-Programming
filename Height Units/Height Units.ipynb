{
 "cells": [
  {
   "cell_type": "code",
   "execution_count": 1,
   "metadata": {},
   "outputs": [
    {
     "name": "stdout",
     "output_type": "stream",
     "text": [
      "Enter your height:\n",
      " Number of feet: 5\n",
      " Number of inches: 4\n",
      "Your height in centimeters is: 162.56\n"
     ]
    }
   ],
   "source": [
    "## Convert a height in feet and inches to centimeters\n",
    "\n",
    "IN_PER_FT = 12\n",
    "CM_PER_IN = 2.54\n",
    "\n",
    "# Read input from the user\n",
    "print('Enter your height:')\n",
    "feet = int(input(' Number of feet: '))\n",
    "inches = int(input(' Number of inches: '))\n",
    "\n",
    "# Compute the equivalent number of centimeters\n",
    "cm = (feet * IN_PER_FT + inches) * CM_PER_IN\n",
    "\n",
    "# Display the result\n",
    "print('Your height in centimeters is:', cm)"
   ]
  }
 ],
 "metadata": {
  "kernelspec": {
   "display_name": "Python 3",
   "language": "python",
   "name": "python3"
  },
  "language_info": {
   "codemirror_mode": {
    "name": "ipython",
    "version": 3
   },
   "file_extension": ".py",
   "mimetype": "text/x-python",
   "name": "python",
   "nbconvert_exporter": "python",
   "pygments_lexer": "ipython3",
   "version": "3.6.5"
  }
 },
 "nbformat": 4,
 "nbformat_minor": 2
}
