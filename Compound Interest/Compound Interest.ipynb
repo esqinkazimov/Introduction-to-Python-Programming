{
 "cells": [
  {
   "cell_type": "code",
   "execution_count": 1,
   "metadata": {},
   "outputs": [
    {
     "name": "stdout",
     "output_type": "stream",
     "text": [
      "Enter the amount of deposited money in dollars: 100\n",
      "The balance in your savings account after 1 year will be 104.00$\n",
      "The balance in your savings account after 2 years will be 108.16$\n",
      "The balance in your savings account after 3 years will be 112.49$\n"
     ]
    }
   ],
   "source": [
    "## Compute the Compound Interest\n",
    "\n",
    "INTRST_RATE = 0.04\n",
    "\n",
    "# Read the amount of deposited money from user\n",
    "amount = float(input('Enter the amount of deposited money in dollars: '))\n",
    "\n",
    "# Compute the amount of money in saving account after 1,2 and 3 years accordingly\n",
    "first_year_amount = amount * (1 + INTRST_RATE) ** 1\n",
    "second_year_amount = amount * (1 + INTRST_RATE) ** 2\n",
    "third_year_amount = amount * (1 + INTRST_RATE) ** 3\n",
    "\n",
    "# Display the Results\n",
    "print('The balance in your savings account after 1 year will be %.2f$' %first_year_amount)\n",
    "print('The balance in your savings account after 2 years will be %.2f$' %second_year_amount)\n",
    "print('The balance in your savings account after 3 years will be %.2f$' %third_year_amount)"
   ]
  }
 ],
 "metadata": {
  "kernelspec": {
   "display_name": "Python 3",
   "language": "python",
   "name": "python3"
  },
  "language_info": {
   "codemirror_mode": {
    "name": "ipython",
    "version": 3
   },
   "file_extension": ".py",
   "mimetype": "text/x-python",
   "name": "python",
   "nbconvert_exporter": "python",
   "pygments_lexer": "ipython3",
   "version": "3.6.5"
  }
 },
 "nbformat": 4,
 "nbformat_minor": 2
}
