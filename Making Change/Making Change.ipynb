{
 "cells": [
  {
   "cell_type": "code",
   "execution_count": 1,
   "metadata": {},
   "outputs": [
    {
     "name": "stdout",
     "output_type": "stream",
     "text": [
      "Enter the number of coins: 297\n",
      "  5 Fifty Coins\n",
      "  2 Twenty Coins\n",
      "  0 Ten Coins\n",
      "  1 Five Coins\n",
      "  0 Three Coins\n",
      "  2 One Coins\n"
     ]
    }
   ],
   "source": [
    "## Compute the minimum collection of coins needed to present a number of coins\n",
    "\n",
    "FIFTY_COIN = 50\n",
    "TWENTY_COIN = 20\n",
    "TEN_COIN = 10\n",
    "FIVE_COIN = 5\n",
    "THREE_COIN = 3\n",
    "ONE_COIN = 1\n",
    "\n",
    "# Read the number of coins from user\n",
    "coins = int(input('Enter the number of coins: '))\n",
    "\n",
    "# Determine the number of Fifty Coins by performing an integer division by 50\n",
    "# Then compute the amount of change that still needs to be considered\n",
    "# Computing the remainder after dividing by 200.\n",
    "print(' ', coins // FIFTY_COIN, 'Fifty Coins')\n",
    "coins = coins % FIFTY_COIN\n",
    "\n",
    "# Repeat the process for Twenty Coins, Ten Coins, Five Coins, Three Coins and One Coins\n",
    "print(' ', coins // TWENTY_COIN, 'Twenty Coins')\n",
    "coins = coins % TWENTY_COIN\n",
    "\n",
    "print(' ', coins // TEN_COIN, 'Ten Coins')\n",
    "coins = coins % TEN_COIN\n",
    "\n",
    "print(' ', coins // FIVE_COIN, 'Five Coins')\n",
    "coins = coins % FIVE_COIN\n",
    "\n",
    "print(' ', coins // THREE_COIN, 'Three Coins')\n",
    "coins = coins % THREE_COIN\n",
    "\n",
    "# Display the result\n",
    "print(' ', coins, 'One Coins')"
   ]
  }
 ],
 "metadata": {
  "kernelspec": {
   "display_name": "Python 3",
   "language": "python",
   "name": "python3"
  },
  "language_info": {
   "codemirror_mode": {
    "name": "ipython",
    "version": 3
   },
   "file_extension": ".py",
   "mimetype": "text/x-python",
   "name": "python",
   "nbconvert_exporter": "python",
   "pygments_lexer": "ipython3",
   "version": "3.6.5"
  }
 },
 "nbformat": 4,
 "nbformat_minor": 2
}
