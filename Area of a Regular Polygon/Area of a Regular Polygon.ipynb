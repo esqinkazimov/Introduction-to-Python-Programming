{
 "cells": [
  {
   "cell_type": "code",
   "execution_count": 1,
   "metadata": {},
   "outputs": [
    {
     "name": "stdout",
     "output_type": "stream",
     "text": [
      "Enter the length of each side of the polygon: 8\n",
      "Enter the number of sides: 15\n",
      "The area of the polygon is 1129.11 cm^2\n"
     ]
    }
   ],
   "source": [
    "## Compute the area of a regular polygon\n",
    "\n",
    "from math import tan, pi\n",
    "\n",
    "# Read input from the user\n",
    "s = float(input('Enter the length of each side of the polygon: '))\n",
    "n = int(input('Enter the number of sides: '))\n",
    "\n",
    "# Compute the area of the polygon\n",
    "area = (n * s ** 2) / (4 * tan(pi / n))\n",
    "\n",
    "# Display the result\n",
    "print('The area of the polygon is %.2f cm^2' %area)"
   ]
  }
 ],
 "metadata": {
  "kernelspec": {
   "display_name": "Python 3",
   "language": "python",
   "name": "python3"
  },
  "language_info": {
   "codemirror_mode": {
    "name": "ipython",
    "version": 3
   },
   "file_extension": ".py",
   "mimetype": "text/x-python",
   "name": "python",
   "nbconvert_exporter": "python",
   "pygments_lexer": "ipython3",
   "version": "3.6.5"
  }
 },
 "nbformat": 4,
 "nbformat_minor": 2
}
