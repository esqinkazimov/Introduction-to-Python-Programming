{
 "cells": [
  {
   "cell_type": "code",
   "execution_count": 1,
   "metadata": {},
   "outputs": [
    {
     "name": "stdout",
     "output_type": "stream",
     "text": [
      "Enter your weight (in kilograms): 85\n",
      "Enter your height (in centimeters): 170\n",
      "Your body mass index is 29.41176470588235\n"
     ]
    }
   ],
   "source": [
    "## Compute the body mass index (BMI)\n",
    "\n",
    "# Read the weight and height of the user\n",
    "weight = float(input('Enter your weight (in kilograms): '))\n",
    "height = float(input('Enter your height (in centimeters): '))\n",
    "\n",
    "# Compute the body mass index\n",
    "bmi = weight / height ** 2 * 10000\n",
    "\n",
    "# Dislay the result\n",
    "print('Your body mass index is', bmi)"
   ]
  }
 ],
 "metadata": {
  "kernelspec": {
   "display_name": "Python 3",
   "language": "python",
   "name": "python3"
  },
  "language_info": {
   "codemirror_mode": {
    "name": "ipython",
    "version": 3
   },
   "file_extension": ".py",
   "mimetype": "text/x-python",
   "name": "python",
   "nbconvert_exporter": "python",
   "pygments_lexer": "ipython3",
   "version": "3.6.5"
  }
 },
 "nbformat": 4,
 "nbformat_minor": 2
}
