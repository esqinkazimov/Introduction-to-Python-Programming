{
 "cells": [
  {
   "cell_type": "code",
   "execution_count": 1,
   "metadata": {},
   "outputs": [
    {
     "name": "stdout",
     "output_type": "stream",
     "text": [
      "Enter the radius of a cylinder: 5\n",
      "Enter the height of a cylinder: 3\n",
      "The volume of a Cylinder is 235.6 cm^3\n"
     ]
    }
   ],
   "source": [
    "## Compute the volume of a Cylinder\n",
    "\n",
    "from math import pi\n",
    "\n",
    "# Read input from the user\n",
    "r = float(input('Enter the radius of a cylinder: '))\n",
    "h = float(input('Enter the height of a cylinder: '))\n",
    "\n",
    "# Compute the volume of the Cylinder\n",
    "v = pi * r ** 2 * h \n",
    "\n",
    "# Display the result\n",
    "print('The volume of a Cylinder is %.1f cm^3' %v)"
   ]
  }
 ],
 "metadata": {
  "kernelspec": {
   "display_name": "Python 3",
   "language": "python",
   "name": "python3"
  },
  "language_info": {
   "codemirror_mode": {
    "name": "ipython",
    "version": 3
   },
   "file_extension": ".py",
   "mimetype": "text/x-python",
   "name": "python",
   "nbconvert_exporter": "python",
   "pygments_lexer": "ipython3",
   "version": "3.6.5"
  }
 },
 "nbformat": 4,
 "nbformat_minor": 2
}
