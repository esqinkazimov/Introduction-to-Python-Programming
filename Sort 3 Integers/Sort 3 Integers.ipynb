{
 "cells": [
  {
   "cell_type": "code",
   "execution_count": 1,
   "metadata": {},
   "outputs": [
    {
     "name": "stdout",
     "output_type": "stream",
     "text": [
      "Enter the first number: -5\n",
      "Enter the second number: 3\n",
      "Enter the third number: -9\n",
      "The numbers in sorted order are: \n",
      "-9 -5 3\n"
     ]
    }
   ],
   "source": [
    "## Sort 3 values entered by the user into increasing order.\n",
    "\n",
    "# Read the numbers from user, naming them a, b and c\n",
    "a = int(input('Enter the first number: '))\n",
    "b = int(input('Enter the second number: '))\n",
    "c = int(input('Enter the third number: '))\n",
    "\n",
    "mn = min(a, b, c)               # the minimum value\n",
    "mx = max(a, b, c)               # the maximum value\n",
    "md = a + b + c - mn - mx        # the middle value\n",
    "\n",
    "# Display the result\n",
    "print('The numbers in sorted order are: ')\n",
    "print(mn, md, mx)"
   ]
  }
 ],
 "metadata": {
  "kernelspec": {
   "display_name": "Python 3",
   "language": "python",
   "name": "python3"
  },
  "language_info": {
   "codemirror_mode": {
    "name": "ipython",
    "version": 3
   },
   "file_extension": ".py",
   "mimetype": "text/x-python",
   "name": "python",
   "nbconvert_exporter": "python",
   "pygments_lexer": "ipython3",
   "version": "3.6.5"
  }
 },
 "nbformat": 4,
 "nbformat_minor": 2
}
