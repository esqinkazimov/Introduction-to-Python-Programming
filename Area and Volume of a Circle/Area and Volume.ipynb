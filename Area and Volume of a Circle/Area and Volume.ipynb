{
 "cells": [
  {
   "cell_type": "code",
   "execution_count": 1,
   "metadata": {},
   "outputs": [
    {
     "name": "stdout",
     "output_type": "stream",
     "text": [
      "Enter the radius of a circle in centimeters: 3\n",
      "The area of a cirecle is: 28.274333882308138 cm^2\n",
      "The volume of a circle is: 113.09733552923254 cm^3\n"
     ]
    }
   ],
   "source": [
    "## Compute the area and the volume of a circle\n",
    "\n",
    "from math import pi\n",
    "\n",
    "# Read input from the user\n",
    "r = float(input('Enter the radius of a circle in centimeters: '))\n",
    "\n",
    "# Compute the area and the volume of a circle with given radius\n",
    "area = pi * r ** 2\n",
    "volume = 4 / 3 * pi * r ** 3\n",
    "\n",
    "# Display the result\n",
    "print('The area of a cirecle is:', area, 'cm^2')\n",
    "print('The volume of a circle is:', volume, 'cm^3')"
   ]
  }
 ],
 "metadata": {
  "kernelspec": {
   "display_name": "Python 3",
   "language": "python",
   "name": "python3"
  },
  "language_info": {
   "codemirror_mode": {
    "name": "ipython",
    "version": 3
   },
   "file_extension": ".py",
   "mimetype": "text/x-python",
   "name": "python",
   "nbconvert_exporter": "python",
   "pygments_lexer": "ipython3",
   "version": "3.6.5"
  }
 },
 "nbformat": 4,
 "nbformat_minor": 2
}
