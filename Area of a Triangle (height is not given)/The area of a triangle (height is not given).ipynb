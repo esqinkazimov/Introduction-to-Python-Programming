{
 "cells": [
  {
   "cell_type": "code",
   "execution_count": 1,
   "metadata": {},
   "outputs": [
    {
     "name": "stdout",
     "output_type": "stream",
     "text": [
      "Enter the length of the first side: 4\n",
      "Enter the length of the second side: 6\n",
      "Enter the length of the third sidee: 8\n",
      "Area of the triangle is 11.62 cm^2\n"
     ]
    }
   ],
   "source": [
    "## Compute the area of a triangle\n",
    "\n",
    "from math import sqrt\n",
    "\n",
    "# Read the lengths of the sides of the triangle from the user\n",
    "s1 = float(input('Enter the length of the first side: '))\n",
    "s2 = float(input('Enter the length of the second side: '))\n",
    "s3 = float(input('Enter the length of the third sidee: '))\n",
    "\n",
    "# Compute the area of the triangle\n",
    "s = (s1 + s2 + s3) / 2\n",
    "area = sqrt(s * (s - s1) * (s - s2) * (s - s3))\n",
    "\n",
    "# Display the result\n",
    "print('Area of the triangle is %.2f cm^2' %area)"
   ]
  }
 ],
 "metadata": {
  "kernelspec": {
   "display_name": "Python 3",
   "language": "python",
   "name": "python3"
  },
  "language_info": {
   "codemirror_mode": {
    "name": "ipython",
    "version": 3
   },
   "file_extension": ".py",
   "mimetype": "text/x-python",
   "name": "python",
   "nbconvert_exporter": "python",
   "pygments_lexer": "ipython3",
   "version": "3.6.5"
  }
 },
 "nbformat": 4,
 "nbformat_minor": 2
}
