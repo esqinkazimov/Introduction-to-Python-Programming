{
 "cells": [
  {
   "cell_type": "code",
   "execution_count": 1,
   "metadata": {},
   "outputs": [
    {
     "name": "stdout",
     "output_type": "stream",
     "text": [
      "Hieght from which the object is dropped (in meters): 15\n",
      "It will hit the gorund at 17.15 m/s.\n"
     ]
    }
   ],
   "source": [
    "## Compute the speed of an object when it hits the ground after being dropped\n",
    "\n",
    "from math import sqrt\n",
    "\n",
    "# Define a constant for the acceleration due to gravity (in m/s**2)\n",
    "GRAVITY = 9.8\n",
    "\n",
    "# Read the height which the object is dropped \n",
    "d = float(input('Hieght from which the object is dropped (in meters): '))\n",
    "\n",
    "# Compute the final valocity\n",
    "vf = sqrt(2 * GRAVITY * d)\n",
    "\n",
    "# Display the result \n",
    "print('It will hit the gorund at %.2f m/s.' %vf)"
   ]
  }
 ],
 "metadata": {
  "kernelspec": {
   "display_name": "Python 3",
   "language": "python",
   "name": "python3"
  },
  "language_info": {
   "codemirror_mode": {
    "name": "ipython",
    "version": 3
   },
   "file_extension": ".py",
   "mimetype": "text/x-python",
   "name": "python",
   "nbconvert_exporter": "python",
   "pygments_lexer": "ipython3",
   "version": "3.6.5"
  }
 },
 "nbformat": 4,
 "nbformat_minor": 2
}
