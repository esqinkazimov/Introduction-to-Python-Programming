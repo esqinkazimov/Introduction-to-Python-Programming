{
 "cells": [
  {
   "cell_type": "code",
   "execution_count": 1,
   "metadata": {},
   "outputs": [
    {
     "name": "stdout",
     "output_type": "stream",
     "text": [
      "Enter a positive integer: 1000\n",
      "The sum of the first 1000 positive integers is 500500.0\n"
     ]
    }
   ],
   "source": [
    "## Compute the sum of the first n positive integers\n",
    "\n",
    "# Read the input value from user\n",
    "n = int(input('Enter a positive integer: '))\n",
    "\n",
    "# Compute the sum\n",
    "sum = n * (n+1) / 2\n",
    "\n",
    "# Display the Result\n",
    "print('The sum of the first', n, 'positive integers is', sum)"
   ]
  }
 ],
 "metadata": {
  "kernelspec": {
   "display_name": "Python 3",
   "language": "python",
   "name": "python3"
  },
  "language_info": {
   "codemirror_mode": {
    "name": "ipython",
    "version": 3
   },
   "file_extension": ".py",
   "mimetype": "text/x-python",
   "name": "python",
   "nbconvert_exporter": "python",
   "pygments_lexer": "ipython3",
   "version": "3.6.5"
  }
 },
 "nbformat": 4,
 "nbformat_minor": 2
}
