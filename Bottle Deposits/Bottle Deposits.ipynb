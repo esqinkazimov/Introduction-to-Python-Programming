{
 "cells": [
  {
   "cell_type": "code",
   "execution_count": 1,
   "metadata": {},
   "outputs": [
    {
     "name": "stdout",
     "output_type": "stream",
     "text": [
      "How many containers 1 litre or less do you have?: 12\n",
      "How many containers more than 1 litre do you have?: 32\n",
      "Your total refund is will be 9.20$\n"
     ]
    }
   ],
   "source": [
    "## Compute the refund amount for collection of bottles\n",
    "\n",
    "LESS_DEPOSIT = 0.10\n",
    "MORE_DEPOSIT = 0.25\n",
    "\n",
    "# Read the input values from user\n",
    "less = int(input('How many containers 1 litre or less do you have?: '))\n",
    "more = int(input('How many containers more than 1 litre do you have?: '))\n",
    "\n",
    "# Compute the refund amount\n",
    "refund = less * LESS_DEPOSIT + more * MORE_DEPOSIT\n",
    "\n",
    "# Display the result\n",
    "print('Your total refund will be %.2f$'%refund)"
   ]
  }
 ],
 "metadata": {
  "kernelspec": {
   "display_name": "Python 3",
   "language": "python",
   "name": "python3"
  },
  "language_info": {
   "codemirror_mode": {
    "name": "ipython",
    "version": 3
   },
   "file_extension": ".py",
   "mimetype": "text/x-python",
   "name": "python",
   "nbconvert_exporter": "python",
   "pygments_lexer": "ipython3",
   "version": "3.6.5"
  }
 },
 "nbformat": 4,
 "nbformat_minor": 2
}
