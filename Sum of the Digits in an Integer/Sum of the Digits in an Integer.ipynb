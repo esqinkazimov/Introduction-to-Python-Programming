{
 "cells": [
  {
   "cell_type": "code",
   "execution_count": 1,
   "metadata": {},
   "outputs": [
    {
     "name": "stdout",
     "output_type": "stream",
     "text": [
      "Enter 4-digit number: 4235\n",
      "Sum of the digits in a given integer is 14\n"
     ]
    }
   ],
   "source": [
    "## Compute the sum of the digits in an Integer\n",
    "\n",
    "# Read input from the user\n",
    "integer = int(input('Enter 4-digit number: '))\n",
    "\n",
    "# Seperate an integer\n",
    "x1 = integer // 1000\n",
    "integer = integer % 1000\n",
    "\n",
    "x2 = integer // 100\n",
    "integer = integer % 100\n",
    "\n",
    "x3 = integer // 10\n",
    "integer = integer % 10\n",
    "\n",
    "x4 = integer\n",
    "\n",
    "# Compute the sum of the digits\n",
    "sum = x1 + x2 + x3 + x4\n",
    "\n",
    "# Display the result\n",
    "print('Sum of the digits in a given integer is', sum)"
   ]
  }
 ],
 "metadata": {
  "kernelspec": {
   "display_name": "Python 3",
   "language": "python",
   "name": "python3"
  },
  "language_info": {
   "codemirror_mode": {
    "name": "ipython",
    "version": 3
   },
   "file_extension": ".py",
   "mimetype": "text/x-python",
   "name": "python",
   "nbconvert_exporter": "python",
   "pygments_lexer": "ipython3",
   "version": "3.6.5"
  }
 },
 "nbformat": 4,
 "nbformat_minor": 2
}
