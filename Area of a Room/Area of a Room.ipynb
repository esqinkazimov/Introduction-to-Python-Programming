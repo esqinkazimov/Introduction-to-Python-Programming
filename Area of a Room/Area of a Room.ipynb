{
 "cells": [
  {
   "cell_type": "code",
   "execution_count": 1,
   "metadata": {},
   "outputs": [
    {
     "name": "stdout",
     "output_type": "stream",
     "text": [
      "Enter the length of the room in meters: 10\n",
      "Enter the width of the room in meters: 3\n",
      "The area of the room is 30.0 square meters\n"
     ]
    }
   ],
   "source": [
    "## Compute the are of a room\n",
    "\n",
    "# Read the input values form user\n",
    "length = float(input('Enter the length of the room in meters: '))\n",
    "width = float(input('Enter the width of the room in meters: '))\n",
    "\n",
    "# Compute the area of a room\n",
    "area = length * width\n",
    "\n",
    "# Display the Result\n",
    "print('The area of the room is', area, 'square meters')"
   ]
  }
 ],
 "metadata": {
  "kernelspec": {
   "display_name": "Python 3",
   "language": "python",
   "name": "python3"
  },
  "language_info": {
   "codemirror_mode": {
    "name": "ipython",
    "version": 3
   },
   "file_extension": ".py",
   "mimetype": "text/x-python",
   "name": "python",
   "nbconvert_exporter": "python",
   "pygments_lexer": "ipython3",
   "version": "3.6.5"
  }
 },
 "nbformat": 4,
 "nbformat_minor": 2
}
