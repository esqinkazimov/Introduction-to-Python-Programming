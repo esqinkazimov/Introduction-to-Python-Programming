{
 "cells": [
  {
   "cell_type": "code",
   "execution_count": 1,
   "metadata": {},
   "outputs": [
    {
     "name": "stdout",
     "output_type": "stream",
     "text": [
      "Input negative degree for west longtitude and south latitude.\n",
      "Enter Latitude of First place: 45\n",
      "Enter Longitude of First place: 32\n",
      "Enter Latitude of Second place: 12\n",
      "Enter Longitude of Second Place: -45\n",
      "The distance between two places is 8048.96 km\n"
     ]
    }
   ],
   "source": [
    "## Compute the distance between two points on Earth\n",
    "\n",
    "from math import *\n",
    "\n",
    "# Read the latitude and longtitude from user\n",
    "print('Input negative degree for west longtitude and south latitude.')\n",
    "t1 = radians(float(input('Enter Latitude of First place: ')))\n",
    "g1 = radians(float(input('Enter Longitude of First place: ')))\n",
    "t2 = radians(float(input('Enter Latitude of Second place: ')))\n",
    "g2 = radians(float(input('Enter Longitude of Second Place: ')))\n",
    "\n",
    "# Compute the distance between points\n",
    "distance = 6371.01 * acos(sin(t1) * sin(t2) + cos(t1) * cos(t2) * cos(g1 - g2))\n",
    "\n",
    "# Display the result\n",
    "print('The distance between two places is %.2f km' %distance)"
   ]
  }
 ],
 "metadata": {
  "kernelspec": {
   "display_name": "Python 3",
   "language": "python",
   "name": "python3"
  },
  "language_info": {
   "codemirror_mode": {
    "name": "ipython",
    "version": 3
   },
   "file_extension": ".py",
   "mimetype": "text/x-python",
   "name": "python",
   "nbconvert_exporter": "python",
   "pygments_lexer": "ipython3",
   "version": "3.6.5"
  }
 },
 "nbformat": 4,
 "nbformat_minor": 2
}
