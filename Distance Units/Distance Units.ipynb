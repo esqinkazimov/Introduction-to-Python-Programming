{
 "cells": [
  {
   "cell_type": "code",
   "execution_count": 1,
   "metadata": {},
   "outputs": [
    {
     "name": "stdout",
     "output_type": "stream",
     "text": [
      "Enter number of feet:453\n",
      "The distance in inches is 5436.00\n",
      "The distance in yards is 151.00\n",
      "The distance in miles is 0.0858\n"
     ]
    }
   ],
   "source": [
    "## Convert a distance in feet to inches, yards and miles\n",
    "\n",
    "IN_PER_FT = 12\n",
    "YRD_PER_FT = 0.333333\n",
    "ML_PER_FT = 0.000189394\n",
    "\n",
    "# Read input from user\n",
    "feet = int(input('Enter number of feet:'))\n",
    "\n",
    "# Compute the equivalent number of inches, yards and miles\n",
    "inches = feet * IN_PER_FT\n",
    "yards = feet * YRD_PER_FT\n",
    "miles = feet * ML_PER_FT\n",
    "\n",
    "# Display the result\n",
    "print('The distance in inches is %.2f' %inches)\n",
    "print('The distance in yards is %.2f' %yards)\n",
    "print('The distance in miles is %.4f' %miles)"
   ]
  }
 ],
 "metadata": {
  "kernelspec": {
   "display_name": "Python 3",
   "language": "python",
   "name": "python3"
  },
  "language_info": {
   "codemirror_mode": {
    "name": "ipython",
    "version": 3
   },
   "file_extension": ".py",
   "mimetype": "text/x-python",
   "name": "python",
   "nbconvert_exporter": "python",
   "pygments_lexer": "ipython3",
   "version": "3.6.5"
  }
 },
 "nbformat": 4,
 "nbformat_minor": 2
}
