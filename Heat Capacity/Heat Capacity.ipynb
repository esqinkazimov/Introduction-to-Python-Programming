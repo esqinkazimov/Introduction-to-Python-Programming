{
 "cells": [
  {
   "cell_type": "code",
   "execution_count": 1,
   "metadata": {},
   "outputs": [
    {
     "name": "stdout",
     "output_type": "stream",
     "text": [
      "Enter the amount of water in millimeters: 2000\n",
      "Enter the temperature increase (degrees Celcius): 100\n",
      "This process will require 836800 Joules of energy\n",
      "That much energy will cost 1.63 coins.\n"
     ]
    }
   ],
   "source": [
    "## Compute the amount of energy needed to heat a volume of water, and a cost of doing so.\n",
    "\n",
    "# Define constants for the specific heat capacity of water and price of electricity\n",
    "WATER_HEAT_CAPACITY = 4.184\n",
    "ELECTRICITY_PRICE = 7\n",
    "J_TO_KWH = 2.777e-7\n",
    "\n",
    "# Read the volume and temperature change from the user\n",
    "volume = float(input('Enter the amount of water in millimeters: '))\n",
    "temperature = float(input('Enter the temperature increase (degrees Celcius): '))\n",
    "\n",
    "# Compute the energy in Joules\n",
    "q = volume * temperature * WATER_HEAT_CAPACITY\n",
    "\n",
    "# Display the result in Joules\n",
    "print('This process will require %d Joules of energy' %q)\n",
    "\n",
    "# Compute the cost\n",
    "kwh = q * J_TO_KWH\n",
    "cost = kwh * ELECTRICITY_PRICE\n",
    "\n",
    "# Display the cost\n",
    "print('That much energy will cost %.2f coins.' %cost)"
   ]
  }
 ],
 "metadata": {
  "kernelspec": {
   "display_name": "Python 3",
   "language": "python",
   "name": "python3"
  },
  "language_info": {
   "codemirror_mode": {
    "name": "ipython",
    "version": 3
   },
   "file_extension": ".py",
   "mimetype": "text/x-python",
   "name": "python",
   "nbconvert_exporter": "python",
   "pygments_lexer": "ipython3",
   "version": "3.6.5"
  }
 },
 "nbformat": 4,
 "nbformat_minor": 2
}
